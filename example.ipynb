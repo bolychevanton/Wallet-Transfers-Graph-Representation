{
 "cells": [
  {
   "attachments": {},
   "cell_type": "markdown",
   "metadata": {},
   "source": [
    "### In this project we will use [graphvis](https://graphviz.org/) package for wallet transfers visualization. \n",
    "\n",
    "#### First of all, why?\n",
    "\n",
    "Basically, as you've might noticed, working with blockchain data might be very tricky. If one is interested in particular data, he may struggle with searching of particular transactions that contain useful information.\n",
    "Sometimes it can be useful due to existing of the so-called [mixers](https://en.wikipedia.org/wiki/Cryptocurrency_tumbler). It helps crypto enthusiasts to obscure their transactions history and make all transactions anonymous.\n",
    "But some villains and hackers also use these services, for example all of them disguise their transactions and use it for money laundering. The most well-known transaction mixer on Ethereum is [Tornado Cash](https://en.wikipedia.org/wiki/Tornado_Cash). It was abused by hackers that have stolen billions of dollars exploiting vulnerabilities of smart-contracts so often, that the main developer of Tornado Cash was sued, and now this service [is being under OFAC pressure](https://medium.com/coinmonks/what-is-tornado-cash-and-why-was-it-blocked-5c95102c92b5).\n",
    "\n",
    "The more data becomes complicated, the more interest it gains. It marked the beginning the fast evolution of on-chain [OSINT](https://en.wikipedia.org/wiki/Open-source_intelligence) technologies. These technologies are being developed in order to investigate financial crimes or represent and parse o### In this project we will use [graphvis](https://graphviz.org/) package for wallet transfers visualization. \n",
    "\n",
    "#### First of all, why?\n",
    "\n",
    "Basically, as you've might noticed, working with blockchain data might be very tricky. If one is interested in particular data, he may struggle with searching of particular transactions that contain useful information.\n",
    "Sometimes it can be useful due to existing of the so-called [mixers](https://en.wikipedia.org/wiki/Cryptocurrency_tumbler). It helps crypto enthusiasts to obscure their transactions history and make all transactions anonymous.\n",
    "But some villains and hackers also use these services, for example all of them disguise their transactions and use it for money laundering. The most well-known transaction mixer on Ethereum is [Tornado Cash](https://en.wikipedia.org/wiki/Tornado_Cash). It was abused by hackers that have stolen billions of dollars exploiting vulnerabilities of smart-contracts so often, that the main developer of Tornado Cash was sued, and now this service [is being under OFAC pressure](https://medium.com/coinmonks/what-is-tornado-cash-and-why-was-it-blocked-5c95102c92b5).\n",
    "\n",
    "The more data becomes complicated, the more interest it gains. It marked the beginning the fast evolution of on-chain [OSINT](https://en.wikipedia.org/wiki/Open-source_intelligence) technologies. These technologies are being developed in order to investigate financial crimes or represent and parse on-chain data to provide any insights about blockchain ecosystem. That's where we are going to dive a bit to see, what could be a possible solution that could help an OSINT specialist to deal with messy blockchain transactions.\n",
    "\n",
    "Let's boil it down step by step.n-chain data to provide any insights about blockchain ecosystem. That's where we are going to dive a bit to see, what could be a possible solution that could help an OSINT specialist to deal with messy blockchain transactions.\n",
    "\n",
    "First, let's briefly discuss what we are going to achieve by this project. In general, your perfect solution should be able to visualize a graph of transactions starting from any chosen wallet. So, your program will contain two main blocks:\n",
    "\n",
    "* **Data selector**\n",
    "* **Data visualizer**\n",
    "\n",
    "The general algorithm can be represented in the following way:\n",
    "\n",
    "I. **Data selector**:\n",
    "\n",
    ">>Configuration\n",
    ">>> - set the **depth** parameter which specifies the amount of levels of child nodes. We will elaborate on that further\n",
    ">>> - set the **wallet_address** - an address from which the tracing is intended to start\n",
    "\n",
    ">> Tracing process\n",
    ">>> - connect to the transaction database\n",
    ">>> - select all transactions that represent the information about a graph of transfers of desired depth: retrieve nodes and edges in a suitable for [graphvis](https://graphviz.readthedocs.io/en/stable/manual.html) format and save transfer amounts to label corresponding edges (as we're interested not only in the direction of money but also in amounts)\n",
    "\n",
    "II. **Visualization**:\n",
    "\n",
    ">>Configuration\n",
    ">>> - set the **depth** parameter which specifies the amount of levels of child nodes. We will elaborate on that further\n",
    ">>> - set the **wallet_address** - an address from which the tracing is intended to start\n",
    "\n",
    ">> Tracing process\n",
    ">>> - connect to the transaction database\n",
    ">>> - select all transactions that represent the information about a graph of transfers of desired depth: retrieve nodes and edges in a suitable for [graphvis](https://graphviz.readthedocs.io/en/stable/manual.html) format and save transfer amounts to label corresponding edges (as we're interested not only in the direction of money but also in amounts)\n",
    "\n"
   ]
  },
  {
   "attachments": {},
   "cell_type": "markdown",
   "metadata": {},
   "source": [
    "#### Data selector\n",
    "\n",
    "Let's think about what this part of this program is intended for. We need to visualize a"
   ]
  },
  {
   "cell_type": "markdown",
   "metadata": {},
   "source": []
  }
 ],
 "metadata": {
  "kernelspec": {
   "display_name": "pgd",
   "language": "python",
   "name": "python3"
  },
  "language_info": {
   "name": "python",
   "version": "3.9.16 (main, Jan  9 2023, 17:28:49) \n[GCC 9.4.0]"
  },
  "orig_nbformat": 4,
  "vscode": {
   "interpreter": {
    "hash": "a25f639efcf8b827c645a39ac59b525f9942992f9ce0af7012120d4e91b9c233"
   }
  }
 },
 "nbformat": 4,
 "nbformat_minor": 2
}
